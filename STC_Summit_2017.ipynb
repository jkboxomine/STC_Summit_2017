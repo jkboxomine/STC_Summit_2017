{
 "cells": [
  {
   "cell_type": "markdown",
   "metadata": {
    "slideshow": {
     "slide_type": "slide"
    }
   },
   "source": [
    "# STC Summit 2017\n",
    "##### May 7 - 10, 2017\n",
    "##### Gaylord National Resort & Convention Center\n",
    "![title](https://github.com/jkboxomine/STC_Summit_2017/blob/master/img/Summit2017_dates.png?raw=true)"
   ]
  },
  {
   "cell_type": "markdown",
   "metadata": {
    "slideshow": {
     "slide_type": "slide"
    }
   },
   "source": [
    "# Venue\n",
    "![title](https://github.com/jkboxomine/STC_Summit_2017/blob/master/img/Venue.jpg?raw=true)"
   ]
  },
  {
   "cell_type": "markdown",
   "metadata": {
    "slideshow": {
     "slide_type": "subslide"
    }
   },
   "source": [
    "# Conference Hall\n",
    "![title](https://github.com/jkboxomine/STC_Summit_2017/blob/master/img/ConferenceHall.jpg?raw=true)\n"
   ]
  },
  {
   "cell_type": "markdown",
   "metadata": {
    "slideshow": {
     "slide_type": "subslide"
    }
   },
   "source": [
    "# Demo Booth\n",
    "![title](https://github.com/jkboxomine/STC_Summit_2017/blob/master/img/DemoBooth.jpg?raw=true)"
   ]
  },
  {
   "cell_type": "markdown",
   "metadata": {
    "slideshow": {
     "slide_type": "subslide"
    }
   },
   "source": [
    "# Books\n",
    "![title](https://github.com/jkboxomine/STC_Summit_2017/blob/master/img/Books.jpg?raw=true)"
   ]
  },
  {
   "cell_type": "markdown",
   "metadata": {
    "slideshow": {
     "slide_type": "slide"
    }
   },
   "source": [
    "# Day 1 - Session #1\n",
    "## [User Experience Strategies for Winning API Documentation](https://stcsummit2017.sched.com/event/8tj4/user-experience-strategies-for-winning-api-documentation)\n",
    "### Eric Cressey (Senior UX Content Writer, Symantec)\n",
    "![title](https://github.com/jkboxomine/STC_Summit_2017/blob/master/img/Day1_Session1.jpg?raw=true)"
   ]
  },
  {
   "cell_type": "markdown",
   "metadata": {
    "slideshow": {
     "slide_type": "subslide"
    }
   },
   "source": [
    "# API User Experience\n",
    "## Obstacles in API learning\n",
    "- Documentation 포함 resource 부족/부적절 > API 구조/설계\n",
    "\n",
    "## What causes these issues?\n",
    "- Poor communication\n",
    "- Lack of writer engagement\n",
    "- Inadequate technical review"
   ]
  },
  {
   "cell_type": "markdown",
   "metadata": {
    "slideshow": {
     "slide_type": "subslide"
    }
   },
   "source": [
    "# 1. Make it about Usability\n",
    "\n",
    "## Usability goes beyond docs\n",
    "- 30% bugs related to usability\n",
    "- Development team: missing features, consistency, etc.\n",
    "- Others => Technical team\n",
    "\n",
    "## Methods for evaluating usability\n",
    "1. Heuristic evaluations\n",
    "1. Usability studies\n",
    "1. Interview and surveys\n",
    "1. Collecting user feedback is key"
   ]
  },
  {
   "cell_type": "markdown",
   "metadata": {
    "slideshow": {
     "slide_type": "subslide"
    }
   },
   "source": [
    "### Heuristic evaluations\n",
    "- The same factor applied to UI can be good for evaluating documentation\n",
    "  - Naming: clear, consistent, recognizable\n",
    "  - Design Consistency\n",
    "  - Error handling message: clear, informative\n",
    "  - Efficiency of use\n",
    "\n",
    "### Usability studies\n",
    "- Identify documentation and structural issues\n",
    "- Have develpers come in and use the API\n",
    "- Encourage them to talk through their action\n",
    "\n",
    "**=> facilitate feedback from development team**\n"
   ]
  },
  {
   "cell_type": "markdown",
   "metadata": {
    "slideshow": {
     "slide_type": "subslide"
    }
   },
   "source": [
    "### Interview and surveys\n",
    "- Identify user experience and documentation issues\n",
    "- Quick, easy and cheap\n",
    "- Use API users to establish metrics and create personas\n",
    "\n",
    "### Collecting user feedback is key\n",
    "- Make it part of your process\n",
    "- Do it as often as you can \n",
    "- Record your sesions and take good notes\n",
    "- Track responses over time"
   ]
  },
  {
   "cell_type": "markdown",
   "metadata": {
    "slideshow": {
     "slide_type": "subslide"
    }
   },
   "source": [
    "# 2. Be a team player\n",
    "\n",
    "## Get involved early\n",
    "- Cultivate relationship with \"product owner\"\n",
    "- Ask about \n",
    "  - feature roadmap\n",
    "  - user stories\n",
    "  - customer requests\n",
    "  - business logic for integrators\n",
    "\n",
    "## Position yourself for success\n",
    "- Study and use the API\n",
    "- Investigate the tech stack your team uses\n",
    "- Learn to read code\n",
    "- Learn code style and naming conventions"
   ]
  },
  {
   "cell_type": "markdown",
   "metadata": {
    "slideshow": {
     "slide_type": "subslide"
    }
   },
   "source": [
    "## Stay engaged\n",
    "- Lurk in code reviews and design discussions\n",
    "- Review API design for usability\n",
    "- Get high-level API design information => usage information (optimal use of API)\n",
    "- Get technical feedback early\n",
    "\n",
    "## Share customer stories\n",
    "- Listeners feel empathy when they hear personal stories\n",
    "- Helps your team keep users in mind\n",
    "\n",
    "** => \"User first\" mentality **"
   ]
  },
  {
   "cell_type": "markdown",
   "metadata": {
    "slideshow": {
     "slide_type": "subslide"
    }
   },
   "source": [
    "## Share your wins, too\n",
    "*People like being part of a winning effort*\n",
    "- Conditions your team to help you win more\n",
    "- Creates a user-first team mentality\n",
    "- Replenishes goodwill\n",
    "\n",
    "** => \"Team Winning Spirit\" **\n",
    "\n",
    "## Use goodwill wisely\n",
    "- It's a finite resource\n",
    "- Use it when you ask for stuff from teammates or customers\n",
    "- Replenish it by being thankful and respectful"
   ]
  },
  {
   "cell_type": "markdown",
   "metadata": {
    "slideshow": {
     "slide_type": "subslide"
    }
   },
   "source": [
    "# 3. Meet users' needs\n",
    "## Hierarchy of API user needs\n",
    "- search\n",
    "-\tsimple organization\n",
    "-\t\tguidance on high-level design\n",
    "-\t\t\tcode samples and tutorials\n",
    "-\t\t\t\tcomplete and accurate API reference\n",
    "\t\t\t\t"
   ]
  },
  {
   "cell_type": "markdown",
   "metadata": {
    "slideshow": {
     "slide_type": "subslide"
    }
   },
   "source": [
    "## Information Architecture\n",
    "- Separate your reference from your developer's guides\n",
    "- Example: Google API doc\n",
    "\n",
    "## Card sorting\n",
    "*모든 topic을 뽑아서 카드로 만들고 customer한테 보여줘서 sort하게 함*\n",
    "- Regular method for new information\n",
    "- Reverse card sorting to validate existing information\n",
    "- Aim for distinct containers\n",
    "- Example: Guide vs. Tutorial의 구분"
   ]
  },
  {
   "cell_type": "markdown",
   "metadata": {
    "slideshow": {
     "slide_type": "subslide"
    }
   },
   "source": [
    "## API reference\n",
    "- Biggest source of API usability issues\n",
    "- **SpringRestDocs and Swagger2Markup for REST APIs**\n",
    "  - unifies outputs for guide / reference\n",
    "  - automates the process\n",
    "\n",
    "## Developer's guide\n",
    "- Getting started section\n",
    "  - **Minimize \"time to first hello world\"**\n",
    "    - Competitive advantage over other API docs\n",
    "- Use cases, in-depth tutorials, samples\n",
    "- Business logic"
   ]
  },
  {
   "cell_type": "markdown",
   "metadata": {
    "slideshow": {
     "slide_type": "subslide"
    }
   },
   "source": [
    "## Interactive testing and samples\n",
    "- Faster onboarding\n",
    "- Swagger petstore, Amazon scratchpad, etc.\n",
    "\n",
    "## Why are samples important?\n",
    "- 55% of developers learn through code samples\n",
    "  - *from Write the Docs survey: developers start coding from documentation (copy&patse, etc.)*\n",
    "- developers don't want to start from scratch"
   ]
  },
  {
   "attachments": {},
   "cell_type": "markdown",
   "metadata": {
    "slideshow": {
     "slide_type": "subslide"
    }
   },
   "source": [
    "## Types of code samples\n",
    "- Short samples for demonstrating basics\n",
    "- Tutorials for in-depth coverage of a specific task in APIs\n",
    "- Code segments from complete applications\n",
    "\n",
    "## Code sample formatting tips\n",
    "- Use a style guide\n",
    "- Use white space for logical code chunks\n",
    "- Use comments to discuss code flow & non-obvious concepts\n",
    "- Make sure samples stand alone and work as formatted!\n"
   ]
  },
  {
   "cell_type": "markdown",
   "metadata": {
    "slideshow": {
     "slide_type": "subslide"
    }
   },
   "source": [
    "## Search\n",
    "- Some people don't browse\n",
    "- Important even for single-page documentation\n",
    "- Useful for analytics\n",
    "- **Lunr.js** is an option if you want to build your own\n",
    "\n",
    "## Analytics\n",
    "- Search terms\n",
    "- Pages visited after search\n",
    "- User page flows **=> streamlining**\n",
    "- Page per visit"
   ]
  },
  {
   "attachments": {},
   "cell_type": "markdown",
   "metadata": {
    "slideshow": {
     "slide_type": "subslide"
    }
   },
   "source": [
    "# 4. Measure everything\n",
    "\n",
    "## Measure everything\n",
    "- Keep track of user feedback\n",
    "- API adoption, customer retention, support escalations\n",
    "- API documentation analytics\n",
    "- Get fresh data often\n",
    "\n",
    "## Metrics provide visibllity\n",
    "- Problems with the API or documentation\n",
    "- Implementation\n",
    " "
   ]
  },
  {
   "attachments": {},
   "cell_type": "markdown",
   "metadata": {
    "slideshow": {
     "slide_type": "subslide"
    }
   },
   "source": [
    "# Summary\n",
    "1. Frame documentation as a usability task\n",
    "1. Stay engaged in the development process\n",
    "1. Make sure your documentation meets user needs\n",
    "1. Measure everything and do it often"
   ]
  },
  {
   "cell_type": "markdown",
   "metadata": {
    "slideshow": {
     "slide_type": "slide"
    }
   },
   "source": [
    "# Day 1 - Session #2\n",
    "## [Documentation Support for an IoT Product: A Case Study](https://stcsummit2017.sched.com/event/8tj9/documentation-support-for-an-iot-product-a-case-study)\n",
    "### Michael Harvey (Principal tech writer, SAS)\n",
    "![title](https://github.com/jkboxomine/STC_Summit_2017/blob/master/img/Day1_Session2.jpg?raw=true)"
   ]
  },
  {
   "cell_type": "markdown",
   "metadata": {
    "slideshow": {
     "slide_type": "subslide"
    }
   },
   "source": [
    "# Introduction\n",
    "## Internet of Things (IoT)\n",
    "- A term coined by Kevin Ashton (1999)\n",
    "- Any kind of device exchanging any kind of signal using sensor, transmitter, etc.\n",
    "\n",
    "## SAS\n",
    "- Develops stastical analysis tool for\n",
    "  - Data analysis\n",
    "  - Business Intelligence\n",
    "  \n",
    "## IoT at SAS\n",
    "- Industry-level data analysis\n",
    "  - e.g. oil/gas extraction, water usage monitoring, truck manufacturing\n",
    "- *Presenter writes document for **Event Stream Processing (ESP)** *"
   ]
  },
  {
   "attachments": {},
   "cell_type": "markdown",
   "metadata": {
    "slideshow": {
     "slide_type": "subslide"
    }
   },
   "source": [
    "# SAS Event Stream Processing (ESP)\n",
    "- Set of programming tools to build applications that process and analyze streaming data (events)\n",
    "- Can perform real-time analytics on that data\n",
    "\n",
    "## ESP use cases\n",
    "- Capital markets trading systems \n",
    "- Fraud detection and prevention \n",
    "- Cyber security analytics\n",
    "- Operational systems monitoring and management \n",
    "- Personalized marketing\n",
    "- Sensor data monitoring and management"
   ]
  },
  {
   "attachments": {},
   "cell_type": "markdown",
   "metadata": {
    "slideshow": {
     "slide_type": "subslide"
    }
   },
   "source": [
    "# ESP documents initially inherited\n",
    "## Overview\n",
    "- A “continuous query,” with 3 lines of code\n",
    "\n",
    "## User's guide\n",
    "- Poorly organized with \n",
    "  - Nearly every heading at level 1\n",
    "  - Pages and pages of C++ code\n",
    "  - Questionable repetition\n",
    "- Verbose sentences\n",
    "- Ambiguous diagram\n",
    "\n",
    "** => need storytelling **"
   ]
  },
  {
   "cell_type": "markdown",
   "metadata": {
    "slideshow": {
     "slide_type": "subslide"
    }
   },
   "source": [
    "# Measures for document overhaul\n",
    "\n",
    "## Learn while writing\n",
    "- spent weeks annotating the User's Guide\n",
    "- term arrangements\n",
    "  - investigated terms that were used in different ways\n",
    "  - removed some terms\n",
    "  - edited terms for clarity\n",
    "- asked pointed questions\n",
    "\n",
    "## Define audience\n",
    "- both of \n",
    "  - applicaiton developers\n",
    "  - application users\n"
   ]
  },
  {
   "cell_type": "markdown",
   "metadata": {
    "slideshow": {
     "slide_type": "subslide"
    }
   },
   "source": [
    "## Write for programmers\n",
    "- build on what they do know (no redundancy)\n",
    "- use terms consistently\n",
    "- create a logical flow and stick to it\n",
    "- provide easily accessible reference material\n",
    "\n",
    "## Build the plane during takeoff\n",
    "- write, revise, repeat\n",
    "- correct technical errors in the C++ reference material\n",
    "  - while handling new material about the XML modeling layer\n",
    "- learn/incorporate connectors/adapters\n",
    "- document a completely new UI"
   ]
  },
  {
   "cell_type": "markdown",
   "metadata": {
    "slideshow": {
     "slide_type": "subslide"
    }
   },
   "source": [
    "## Build trust with development team\n",
    "- competent SW engineers - not tech. communicators\n",
    "- explain different roles and value-added by proper documentation\n",
    "- schedule as much face time\n",
    "- NEVER compain about the volume of work\n",
    "\n",
    "## Sweat the technical details\n",
    "- learn how to read C++ code\n",
    "- become familiar with different technology\n",
    "  - **YARN, Apache Camel**\n",
    "- constantly ask questions\n",
    "\n",
    "** => research, attempt to understand --> trust/respect **"
   ]
  },
  {
   "cell_type": "markdown",
   "metadata": {
    "slideshow": {
     "slide_type": "subslide"
    }
   },
   "source": [
    "# What story emerges?\n",
    "\n",
    "## Streaming Data (Events)\n",
    "- very different from static data\n",
    "- an event consist of metadata and field data\n",
    "  - metadata: opcode + flag\n",
    "  - field: key, symbol, tray, price\n",
    "- need a model for actional event\n",
    "\n",
    "## How do events flow through ESP?\n",
    "- 이벤트 전달과 관련된 외부/내부 개체를 명확하게 구분\n",
    "  - event stream publisher/subscriber\n",
    "  - source/derived window\n",
    "- 다이어그램이 실제 이벤트 전달을 보여줄 수 있도록 numbering, callout을 추가"
   ]
  },
  {
   "attachments": {},
   "cell_type": "markdown",
   "metadata": {
    "slideshow": {
     "slide_type": "subslide"
    }
   },
   "source": [
    "# Evolution of documentation\n",
    "Before | After\n",
    "------------ | -------------\n",
    "Flat and dense | Better organized, more accessible, less dense\n",
    "523p. user guides | Set of self-contained topics in help center\n"
   ]
  },
  {
   "attachments": {},
   "cell_type": "markdown",
   "metadata": {
    "slideshow": {
     "slide_type": "subslide"
    }
   },
   "source": [
    "# Bleeding edge meets tech writing 101\n",
    "- Don’t take it personally (learn)\n",
    "- Learn before asking (respect, impress)\n",
    "- Ask (often)\n",
    "- Rewrite (always)\n",
    "- Acquire feedback (test, reviews)\n",
    "- Understand (before publishing)\n",
    "- Contribute\n"
   ]
  },
  {
   "cell_type": "markdown",
   "metadata": {
    "slideshow": {
     "slide_type": "subslide"
    }
   },
   "source": [
    "# What's next?\n",
    "- for machine builders? : agriculture (ferterlizer), airline (fuel use), ...\n",
    "- for health care? : remote monitoring, biometric data\n",
    "- Who owns security in the IoT?\n",
    "\n",
    "# IoT \"end users\"\n",
    "- won't need/read doc.\n",
    "- won't use SW apps\n",
    "- consume the analysis of event streams\n",
    "\n",
    "# Challenges ahead\n",
    "- continuing to overcome the curse of knowldedge\n",
    "- connecting the dots for SAS ioT customers - offerings that bundle various SAS products\n",
    "- building more planes during takeoff"
   ]
  },
  {
   "cell_type": "markdown",
   "metadata": {
    "slideshow": {
     "slide_type": "subslide"
    }
   },
   "source": [
    "# Q&A\n",
    "- RESTful API Doc 생성 방법?\n",
    "  - 자체 정의한 DTD 기반 XML에서 생성\n",
    "  - 내년에 Swagger로 전환 예정"
   ]
  },
  {
   "cell_type": "markdown",
   "metadata": {
    "slideshow": {
     "slide_type": "slide"
    }
   },
   "source": [
    "# Day 1 - Session #3\n",
    "## [Walk in Your Customer's Shoes: Creating Journey Maps for an Improved User Experience](https://stcsummit2017.sched.com/event/8tiA/walk-in-your-customers-shoes-learn-the-art-of-journey-mapping)\n",
    "### Michelle M. Gardner (Sr. Info. Developer, Micro Focus International)\n",
    "![title](https://github.com/jkboxomine/STC_Summit_2017/blob/master/img/Day1_Session3.jpg?raw=true)"
   ]
  },
  {
   "cell_type": "markdown",
   "metadata": {
    "slideshow": {
     "slide_type": "subslide"
    }
   },
   "source": [
    "# What's a Journey Map?\n",
    "- tells a story from a user(particular persona)'s perspective \n",
    "- about the actions that persona takes\n",
    "- to accomplish a specific goal\n",
    "\n",
    "## Steps for creating a journey map\n",
    "- Know the users and their goals\n",
    "- Write about the actions they need to take at each stage\n",
    "- Find out what they would want at each stage\n",
    "- Satisfy the user's need\n",
    "- Remove the obstacles\n"
   ]
  },
  {
   "cell_type": "markdown",
   "metadata": {
    "slideshow": {
     "slide_type": "subslide"
    }
   },
   "source": [
    "## from a particular point of view\n",
    "- get to know (delve into) your personas\n",
    "- don't let assumptions trip you\n",
    "- \"tell each persona's story as an individual journey\"\n",
    "\n",
    "## about actions the persona takes\n",
    "- action on each stage\n",
    "- thoughts and feelings\n",
    "- timeframe\n",
    "- expectation\n",
    "- channels\n",
    "- touchpoints => 단계 별로 도출하면 selling point를 파악할 수 있음\n",
    "- moments of truth\n"
   ]
  },
  {
   "cell_type": "markdown",
   "metadata": {
    "slideshow": {
     "slide_type": "subslide"
    }
   },
   "source": [
    "\n",
    "# When to create a journey map\n",
    "- plan (best), design, post-processing\n",
    "\n",
    "# Apply to product design\n",
    "- Add useful features\n",
    "- Remove or hide features\n",
    "- Provide alternatives\n",
    "- Identify and create scenarios\n",
    "\n",
    "# Apply to targeted content\n",
    "- organize content according to the journey\n",
    "- ensure the interface has the right content at the right time\n"
   ]
  },
  {
   "cell_type": "markdown",
   "metadata": {
    "slideshow": {
     "slide_type": "subslide"
    }
   },
   "source": [
    "\n",
    "# Journey mapping process\n",
    "- Empathize\n",
    "- Define\n",
    "- Ideate\n",
    "- Prototype\n",
    "- Test\n",
    "\n",
    "# Effects of journey map\n",
    "- improve your targeted content and influence the user experience\n",
    "- at all stages of the design & development process"
   ]
  },
  {
   "cell_type": "markdown",
   "metadata": {
    "slideshow": {
     "slide_type": "slide"
    }
   },
   "source": [
    "# Day 1 - Session #4\n",
    "## [Implementing a Content Strategy Is Like Running 100 Miles: Painful But Possible](https://stcsummit2017.sched.com/event/8tj1/implementing-a-content-strategy-is-like-running-100-miles-painful-but-possible)\n",
    "### Gavin Austin (Principal Tech. Writer, SalesForce)\n",
    "![title](https://github.com/jkboxomine/STC_Summit_2017/blob/master/img/Day1_Session4.jpg?raw=true)"
   ]
  },
  {
   "attachments": {},
   "cell_type": "markdown",
   "metadata": {
    "slideshow": {
     "slide_type": "subslide"
    }
   },
   "source": [
    "# About Salesforce\n",
    "- develops Customer Relationship Management (CRM) solution in the cloud\n",
    "- currently 4th largest SW company in the world\n",
    "\n",
    "# About me\n",
    "- couldn't run a mile\n",
    "- unemployable without spellcheck\n",
    "- leading people scares me and burns my guts\n",
    "\n",
    "## Nevertheless\n",
    "- finished western states 100-mile endurance run and many others\n",
    "- helped motivate, explain, train, and lead a team of 100+ smart, bright, talented, opinionated content creators into a new content strategy"
   ]
  },
  {
   "attachments": {},
   "cell_type": "markdown",
   "metadata": {
    "slideshow": {
     "slide_type": "subslide"
    }
   },
   "source": [
    "# Content Strategy\n",
    "- Provides **context**, so that the organization's **vision** can be implemented in an integrated way, to meet **business goals** and project objectives\n",
    "*from The Language of Content Strategy by Scott Abel & Rahel Anne Bailie*\n",
    "\n",
    "\n",
    "# What I learned and what this talk is about\n",
    "1. Pain (discomfort)\n",
    "1. Relationships\n",
    "1. Strengths over weaknesses\n",
    "1. 'Forget tools, hacks, fads'"
   ]
  },
  {
   "cell_type": "markdown",
   "metadata": {
    "slideshow": {
     "slide_type": "subslide"
    }
   },
   "source": [
    "# 1. get ready to hurt\n",
    "\n",
    "- Your vision worth the pain?\n",
    "  - Salesforce 기존 상태\n",
    "    - 3달마다 있는 release마다 400페이지의 revision history\n",
    "    - Tech. writer도 찾아 보기 힘든 수만 페이지의 help topics\n",
    "- Can you make it less painful?\n",
    "  - make it doable\n",
    "  - prioritize interactive guides over traditional doc forms\n",
    "- How many opinions can you tolerate?\n",
    "- Is there a pain threshold to measure?\n",
    "  - 20 years of legacy contents\n",
    "  - 10% at a time (curate, re-write, optimize, SEO modification)\n",
    "- How will you handle wanting to quit?\n",
    "  - iterative (update one at a time)"
   ]
  },
  {
   "cell_type": "markdown",
   "metadata": {
    "slideshow": {
     "slide_type": "subslide"
    }
   },
   "source": [
    "# 2. you can't do it alone\n",
    "- Who are your mentors?\n",
    "  - 멘토가 반드시 상급자여야 할 필요는 없다.\n",
    "  - 동료나 부하의 재능과 지혜로부터 도움을 받고 배울 수 있다.\n",
    "- Do you need a pacer?\n",
    "  - for safety first\n",
    "  - consider health of the team\n",
    "- Are you asking for help?\n",
    "  - 러닝 중간에 나타나서 파인애플 주는 부모님 예시 ^^;\n",
    "- Are you putting tools over people?\n",
    "  - buy into what you're doing\n",
    "  - 맨발, 채식주의자 runner 따라하기 비유\n",
    "- Are you celebrating victories?"
   ]
  },
  {
   "cell_type": "markdown",
   "metadata": {
    "slideshow": {
     "slide_type": "subslide"
    }
   },
   "source": [
    "# 3. Strength over Weaknesses\n",
    "- What's your team great at?\n",
    "  - at SalesForce, no \"one size fits all\" strategy\n",
    "- What's your team's biggest weakness?\n",
    "  - keeping up with growing team\n",
    "- Did you verify with a proof of concept?\n",
    "- Are you recovering with breaks?\n",
    "  - rotate writers for tasks => recharge\n",
    "- Are you scheduling time (appropriately )for your strengths?\n",
    "  - 팀원들의 content 작성 능력이 뛰어나더라도 UI text review하는 시간을 갖는다."
   ]
  },
  {
   "cell_type": "markdown",
   "metadata": {
    "slideshow": {
     "slide_type": "subslide"
    }
   },
   "source": [
    "# 4. A Finish for you\n",
    "\n",
    "- Next step?\n",
    "- Volunteer => Now!"
   ]
  },
  {
   "cell_type": "markdown",
   "metadata": {
    "slideshow": {
     "slide_type": "subslide"
    }
   },
   "source": [
    "# Q&A\n",
    "- How did you convince SME?\n",
    "  - Exceutives understood that content reflects (helps accentuating) the brand of the company (운이 좋은 듯)\n",
    "  - Working with UX/marketing people can be very helpful.\n",
    "- Recommended roadmap?\n",
    "  - 100mile run도 한번에 만들어지지 않았음 (10 -> 20 -> 50 -> 100)\n",
    "  - Conduct proof of concept (for years)\n",
    "- CMS/버전 관리 시스템?\n",
    "  - 개발팀과 align되도록 Perforce 사용"
   ]
  },
  {
   "cell_type": "markdown",
   "metadata": {
    "slideshow": {
     "slide_type": "slide"
    }
   },
   "source": [
    "# Day 1 - Session #5\n",
    "## [Work Global, Live Local](https://stcsummit2017.sched.com/event/8tiB/work-global-live-local)\n",
    "### Melissa Kulm (Lead Technical Writer, SalesForce) 외 2인\n",
    "![title](https://github.com/jkboxomine/STC_Summit_2017/blob/master/img/Day1_Session5.jpg?raw=true)"
   ]
  },
  {
   "cell_type": "markdown",
   "metadata": {
    "slideshow": {
     "slide_type": "subslide"
    }
   },
   "source": [
    "# Learn how to\n",
    "- Staying visible\n",
    "- Maintain connection\n",
    "- Stay focused when working remotely\n",
    "\n",
    "*참가자 대부분이 remote (또는 재택) 근무 경험, 절반 이상이 현재 remote 근무*"
   ]
  },
  {
   "cell_type": "markdown",
   "metadata": {
    "slideshow": {
     "slide_type": "subslide"
    }
   },
   "source": [
    "# Stay Visible & Engaged\n",
    "- speak up, speak often\n",
    "  - to communicate informally\n",
    "    - Hangout, Skype, Slack\n",
    "  - to communicate more formally\n",
    "    - Collaboration platform (SalesForce Chatter), Wiki, email, 'office hours'\n",
    "- Managing your career remotely\n",
    "  - Socialize your work\n",
    "- Be your best self\n",
    "  - turbocharge your HW: 웹캠, 헤드폰+마이크, 노이즈 캔슬링\n",
    "  - check your speed: 인터넷 BW\n",
    "  - aim for a distraction-free workspace\n",
    "- make meetings remote-friendly\n",
    "  - attending\n",
    "  - running: manner, time"
   ]
  },
  {
   "cell_type": "markdown",
   "metadata": {
    "slideshow": {
     "slide_type": "subslide"
    }
   },
   "source": [
    "# Maintain connection\n",
    "- Participate in and foster team culture\n",
    "  - virtual happy hours\n",
    "  - be a joiner\n",
    "  - lunch localy\n",
    "  - volunteer together\n",
    "- build good virtual working relationship\n",
    "  - consider time zone\n",
    "  - share meeting notes/recordings\n",
    "- build good F2F working relationship\n",
    "  - make the most of your team visit\n",
    "    - plan, plan, plan\n",
    "    - side-by-side doc/UX reviews, brainstorming"
   ]
  },
  {
   "cell_type": "markdown",
   "metadata": {
    "slideshow": {
     "slide_type": "subslide"
    }
   },
   "source": [
    "# Stay focused when working remotely\n",
    "- set aside office space\n",
    "  - 제안: 사무실과 비슷하게 구성하라\n",
    "- Groom for success (출근할 때와 같은 몸가짐 마음가짐)\n",
    "  - no Pajama Syndrome\n",
    "  - 시간 맞춰 생활 패턴 구성: 다른 팀 식사 시간에 운동 등\n",
    "- do excercise & manage breaks\n",
    "- Nurture your social life\n",
    "- Turn it off\n",
    "  - 사무실과 마찬가지로 시간 맞춰 업무 마무리, 루틴 유지"
   ]
  },
  {
   "cell_type": "markdown",
   "metadata": {
    "slideshow": {
     "slide_type": "slide"
    }
   },
   "source": [
    "# Day 2 - Session #1\n",
    "## [A Tech Writer, A Map, and an App](https://stcsummit2017.sched.com/event/8tjK/a-tech-writer-a-map-and-an-app)\n",
    "### Sarah Maddox (Tech. Writer on the Google Maps APIs, Google)\n",
    "![title](https://github.com/jkboxomine/STC_Summit_2017/blob/master/img/Day2_Session1.jpg?raw=true)"
   ]
  },
  {
   "cell_type": "markdown",
   "metadata": {
    "slideshow": {
     "slide_type": "subslide"
    }
   },
   "source": [
    "# Tech Comm on a Map\n",
    "- 전 세계 technical communication 활동을 지도 상에 보여 주는 app\n",
    "  - [Demo](http://sarahmaddox.github.io/techcomm-map/)\n",
    "  - [Web app](http://sarahmaddox.github.io/techcomm-map)\n",
    "  - [Android app](https://goo.gl/twfOKO)\n",
    "\n",
    "# What's discussed\n",
    "- App을 개발하게 된 동기\n",
    "- Data sourcing\n",
    "- Web app, Mobile app 각각의 개발/배포 과정\n",
    "- Open Source, Hackathon\n",
    "- Lessons learned\n",
    "\n",
    "*=> 세부 사항은 발표 자료 참고*"
   ]
  },
  {
   "cell_type": "markdown",
   "metadata": {
    "slideshow": {
     "slide_type": "subslide"
    }
   },
   "source": [
    "# 주요 시사점\n",
    "## Why develop an app?\n",
    "- understand my audience\n",
    "- learn the tech\n",
    "- gain the edge\n",
    "- create a useful map for the tech comm community\n",
    "- have fun\n",
    "**=> gain the edge, take a leap, really need docs & code samples**\n",
    "\n",
    "## Lessons\n",
    "### IANAE (I Am Not An Engineer), but...\n",
    "- technical confidence\n",
    "- understanding of audience\n",
    "  - various skill levels / platforms\n",
    "  - just want to get things done\n",
    "  - **code samples rule** => Google Maps API 사이트에 반영"
   ]
  },
  {
   "cell_type": "markdown",
   "metadata": {
    "slideshow": {
     "slide_type": "subslide"
    }
   },
   "source": [
    "# Q&A\n",
    "- Atlassian vs. Google?\n",
    "  - Google is intensely developer focused\n",
    "- What changes are you planning to make?\n",
    "  - work with UX research group, put together design to improve UX\n",
    "- How to cover diffenent level of developers?\n",
    "  - start with rudimentary --> build up\n",
    "- 'A-Ha' moments from developers?\n",
    "  - run a Hackathon"
   ]
  },
  {
   "cell_type": "markdown",
   "metadata": {
    "slideshow": {
     "slide_type": "slide"
    }
   },
   "source": [
    "# Day 2 - Session #2\n",
    "## [Hello World! RIP Traditional Content Strategies and Methodologies](https://stcsummit2017.sched.com/event/8tjN/hello-world-rip-traditional-content-strategies-and-methodologies)\n",
    "### Pam Noreault (Solution Architect, SDL)\n",
    "![title](https://github.com/jkboxomine/STC_Summit_2017/blob/master/img/Day2_Session2.jpg?raw=true)"
   ]
  },
  {
   "cell_type": "markdown",
   "metadata": {
    "slideshow": {
     "slide_type": "subslide"
    }
   },
   "source": [
    "# Traditional Content Strategy\n",
    "## Release-cycle documentation\n",
    "1. new features, fixes, release = new content\n",
    "1. publish to PDF or HTML\n",
    "1. rinse and repeat\n",
    "\n",
    "## Poll\n",
    "1. Who does content within some release cycle?\n",
    "1. Does anyone release content or other deliverables outside of this cycle?\n",
    "\n",
    "## Questions\n",
    "- where do we go?\n",
    "- what do you do?\n",
    "*=> 구글, 유투브, 포럼, iFixIt, ... (자사 help site는 뒷전으로...)*\n",
    "-  Why do we stick with the traditional?\n",
    "*=> 편하다고 계속 사용하지만... end user에게 사용되지 않을 가능성이 커짐*"
   ]
  },
  {
   "cell_type": "markdown",
   "metadata": {
    "slideshow": {
     "slide_type": "subslide"
    }
   },
   "source": [
    "# Customer-Driven Deliverables\n",
    "- Strategy\n",
    "- Goals\n",
    "  - Proof of Concept (POC)\n",
    "  - Schedule\n",
    "  - Content\n",
    "  - Video\n",
    "  - Bot driven\n",
    "\n",
    "# Know your audience\n",
    "- We claim that knowing our audience ... VERY FEW\n",
    "- You can't know anybody without spending time with them\n",
    "- Let's get personal!\n"
   ]
  },
  {
   "cell_type": "markdown",
   "metadata": {
    "slideshow": {
     "slide_type": "subslide"
    }
   },
   "source": [
    "*Note: 가령 60개 가량의 언어로 tech/marketing content 번역하는 걸 처리하려면 새로운 전략과 방법론이 필수적임*\n",
    "\n",
    "# Jump the Gap... Shift... Get out of your comfort zone\n",
    "- stop doing release-cycle driven content\n",
    "- engage with your customers\n",
    "- use UX methodologies: **[usability.gov](https://www.usability.gov/)**\n",
    "- use social media\n",
    "\n",
    "# Where to Start?\n",
    "1. Take inventory: what's important, where this will fit in\n",
    "1. Do a POC\n",
    "1. Measure/Report Results\n",
    "1. Determine Strategy/Schedule/Execute"
   ]
  },
  {
   "cell_type": "markdown",
   "metadata": {
    "slideshow": {
     "slide_type": "subslide"
    }
   },
   "source": [
    "# Engage\n",
    "- Listen\n",
    "- watch\n",
    "- demo\n",
    "- question\n",
    "- look for patterns\n",
    "- obtain first-hand evidence\n",
    "\n",
    "# Deploy UX Strategies and Marketing Strategies\n",
    "- 슬라이드 및 usability 사이트 참조"
   ]
  },
  {
   "cell_type": "markdown",
   "metadata": {
    "slideshow": {
     "slide_type": "subslide"
    }
   },
   "source": [
    "# Strategy\n",
    "- develop your content strategy around your customer-engagement cycle (create this)\n",
    "- determine deliverabls based on need\n",
    "- create a deliverable schedule and kill it\n",
    "- report, rinse, repeat\n",
    "\n",
    "# For real?\n",
    "- customer-centric deliverables vs. PDFs only"
   ]
  },
  {
   "cell_type": "markdown",
   "metadata": {
    "slideshow": {
     "slide_type": "subslide"
    }
   },
   "source": [
    "# Your users are your biggest advocaters if you start involving\n",
    "- Think out of the box\n",
    "- 새로운 피드백이나 요청이 있으면 화내지 말고 감사하는 마음으로...\n",
    "\n",
    "##### 참가자 추천 서적\n",
    "- \"More beautiful questions\"\n",
    "- Filter the \"What\" out of the \"How\""
   ]
  },
  {
   "cell_type": "markdown",
   "metadata": {
    "slideshow": {
     "slide_type": "slide"
    }
   },
   "source": [
    "# Day 2 - Session #3\n",
    "## [Generating Web Service API Documentation Automatically from the Source Code](https://stcsummit2017.sched.com/event/9sSk/generating-web-service-api-documentation-automatically-from-the-source-code)\n",
    "### Ed Marshall (Marshall Documentation Consulting)\n",
    "![title](https://github.com/jkboxomine/STC_Summit_2017/blob/master/img/Day2_Session3.jpg?raw=true)"
   ]
  },
  {
   "cell_type": "markdown",
   "metadata": {
    "slideshow": {
     "slide_type": "subslide"
    }
   },
   "source": [
    "# Intro/Agenda\n",
    "- Then and Now\n",
    "  - Demos of both\n",
    "- Principles of good API documentation\n",
    "- REST API highlights\n",
    "- Using Swagger as a technical writer\n"
   ]
  },
  {
   "cell_type": "markdown",
   "metadata": {
    "slideshow": {
     "slide_type": "subslide"
    }
   },
   "source": [
    "# Then\n",
    "- 기존 #1: Help authoring tool => PDF\n",
    "  - API reference 구조 설명\n",
    "- 기존 #2: JAVA => JAVADOC => HTML Help\n",
    "  - comments가 의미 있는 내용이어야 하고 업데이트돼야 함\n",
    "\n",
    "# ... and Now\n",
    "- Swagger: main player\n",
    "- RAML: looked promising but seems to be unsupported\n"
   ]
  },
  {
   "attachments": {},
   "cell_type": "markdown",
   "metadata": {
    "slideshow": {
     "slide_type": "subslide"
    }
   },
   "source": [
    "# Principles of API Documentation\n",
    "- Interfaces/classes\n",
    "- Methods/functions and their parts: parameters and their datatypes\n",
    "- Return values\n",
    "- Error messages\n",
    "- Examples\n",
    "\n",
    "- Swagger Petstore: actual working API embedded within the Swagger environment\n",
    "- Swagger 데모\n",
    "  - 개발 환경에 copy&paste 할 필요 없고...\n",
    "  - inline WYSIWYG editor가 있음\n",
    "  - YAML: Yet Another Markup Lang."
   ]
  },
  {
   "attachments": {},
   "cell_type": "markdown",
   "metadata": {
    "slideshow": {
     "slide_type": "subslide"
    }
   },
   "source": [
    "# Why use REST APIs for Web services?\n",
    "- Simpler,  all resources called are specified in the request. \n",
    "- Parameters are specified in the request. \n",
    "- Use standard HTTP actions for their operations (GET, PUT, POST, or DELETE).\n",
    "- Identify the categories of data available to the REST API using a URL structure.\n",
    "- Specify a base URI (URL)\n",
    "\n",
    "*SOAP는 out of favor*\n"
   ]
  },
  {
   "cell_type": "markdown",
   "metadata": {
    "slideshow": {
     "slide_type": "subslide"
    }
   },
   "source": [
    "# Using Swagger as a Tech Writer\n",
    "- Mock-up server to test your API\n",
    "- Interactive documentation\n",
    "- ability to generate SDKs in many languages\n",
    "- written in YAML/XML. no extensive coding expertise required.\n",
    "\n",
    "*=> Swagger reference 템플릿 보여줌*"
   ]
  },
  {
   "cell_type": "markdown",
   "metadata": {
    "slideshow": {
     "slide_type": "subslide"
    }
   },
   "source": [
    "# Summary \n",
    "Swagger strength\n",
    "- Single source of truth\n",
    "- provides interactive documentation\n",
    "- generic coding language that produces SDKs for many languages\n",
    "- actively supported"
   ]
  },
  {
   "cell_type": "markdown",
   "metadata": {
    "slideshow": {
     "slide_type": "subslide"
    }
   },
   "source": [
    "# Q&A\n",
    "- zip으로 묶는 등 SDK 생성 자동화 가능?\n",
    "  - Yes. 하지만 주로 개발자 몫임\n",
    "- Swagger 단독으로 documentation tool이 될 수 있다고 보는지?\n",
    "  - 개발팀 등과 협의해서 결정 가능"
   ]
  },
  {
   "cell_type": "markdown",
   "metadata": {
    "slideshow": {
     "slide_type": "slide"
    }
   },
   "source": [
    "# Day 2 - Session #4\n",
    "## [Is DITA Right for You? Scenarios for Considering a Move to DITA](https://stcsummit2017.sched.com/event/8tjV/is-dita-right-for-you-scenarios-for-considering-a-move-to-dita)\n",
    "### Keith Schengili-Roberts (IXIA Soft)\n",
    "![title](https://github.com/jkboxomine/STC_Summit_2017/blob/master/img/Day2_Session4.jpg?raw=true)"
   ]
  },
  {
   "cell_type": "markdown",
   "metadata": {
    "slideshow": {
     "slide_type": "subslide"
    }
   },
   "source": [
    "# Agenda\n",
    "- Brief history of the development of DITA XML\n",
    "- The chief advantages of DITA\n",
    "- Chief reasons why companies move to DITA\n",
    "\n",
    "*=> 상세 내용은 발표 자료 참조*\n",
    "\n",
    "# About the presenter\n",
    "- 발표자가 DITA 표준 위원회 chair이자 다양한 저술, 강연, [사이트](http://www.ditawriter.com/) 운영을 통해 사용 현황을 파악하고 홍보하고 있는 DITA 전문가임"
   ]
  },
  {
   "cell_type": "markdown",
   "metadata": {
    "slideshow": {
     "slide_type": "subslide"
    }
   },
   "source": [
    "# Q&A\n",
    "- Framemaker vs. DITA: 개발자가 작성한 Word에서 어떻게 migration하는가?\n",
    "  - 전반적으로 web based editor로 바뀌는 추세임\n",
    "- SharePoint를 Content Server로 사용 가능한가?\n",
    "  - CCMS (Component ~)가 아니라서 DITA를 완전히 지원하기에는 부족함.\n",
    "- DITA editor/CMS 제품 별로 지원 사항에 크게 차이가 있는데, 파편화 이슈가 우려되지는 않는지?\n",
    "  - Major 버전 교체 주기를 5년으로 보는데 최신 버전인 v1.3이 이제 1년 남짓 된 상태임\n",
    "  - \"Good ones\"(많이 사용되는 우수한 제품으로 이해)는 최신 버전을 반영하기 때문에 큰 문제는 되지 않을 거라고 봄"
   ]
  },
  {
   "cell_type": "markdown",
   "metadata": {
    "slideshow": {
     "slide_type": "slide"
    }
   },
   "source": [
    "# Day 2 - Session #5\n",
    "## [My Android Dreams of Electric Cats: Are You Capturing Your User's Emotive Analytics?](https://stcsummit2017.sched.com/event/8thV/my-android-dreams-of-electric-cats-are-you-capturing-your-users-emotive-analytics)\n",
    "### Allie Proff (Knowledge Management/Library/TechComm, Boeing)\n",
    "![title](https://github.com/jkboxomine/STC_Summit_2017/blob/master/img/Day2_Session5_2.jpg?raw=true)"
   ]
  },
  {
   "cell_type": "markdown",
   "metadata": {
    "slideshow": {
     "slide_type": "subslide"
    }
   },
   "source": [
    "# Introduction\n",
    "- Analytics measures 'what', not 'why' \n",
    "- 'Why' is the emotions\n",
    "\n",
    "\n",
    "# Emotions > Logic\n",
    "- rather than mechanical step1, step2, step3\n",
    "- storytelling rules => engages emotions\n"
   ]
  },
  {
   "cell_type": "markdown",
   "metadata": {
    "slideshow": {
     "slide_type": "subslide"
    }
   },
   "source": [
    "# Emotive Analytics \n",
    "- The ability to measure a user’s emotions through video, voice, wearables, or text. \n",
    "\n",
    "# Affective Processing\n",
    "- Software that can identify a user’s emotions and provide an emotionally correct response.\n"
   ]
  },
  {
   "cell_type": "markdown",
   "metadata": {
    "slideshow": {
     "slide_type": "subslide"
    }
   },
   "source": [
    "# Emotional Design (harder ones) \n",
    "- Voice to Text\n",
    "- Beyond Verbal\n",
    "- Face Detection\n",
    "- The anti-face: CV Dazzle\n",
    "- Affective and Affdex\n",
    "- Face Analytics\n",
    "- Milo the Robot\n",
    "- Hanson Robotics"
   ]
  },
  {
   "cell_type": "markdown",
   "metadata": {
    "slideshow": {
     "slide_type": "subslide"
    }
   },
   "source": [
    "\n",
    "# How does this affect me?\n",
    "- Content creation\n",
    "- Usability and UX\n",
    "- Help documentation\n",
    "- Brand building and loyalty\n",
    "- Customer journey and CX\n",
    "- Customer service and interaction\n",
    "\n",
    "# Q&A\n",
    "- 얼굴 인식 관련 직접 테스트해 보려면 카메라 사용 조심할 것 (프라이버시 이슈)"
   ]
  },
  {
   "cell_type": "markdown",
   "metadata": {
    "slideshow": {
     "slide_type": "slide"
    }
   },
   "source": [
    "# Day 3 - Session #1\n",
    "## [PDF and HTML5 Make Content Truly Omnichannel](https://stcsummit2017.sched.com/event/AJLI/pdf-and-html5-make-content-truly-omnichannel)\n",
    "### Abhishek Jain (Product Manager, Adobe) 외 1명\n",
    "![title](https://github.com/jkboxomine/STC_Summit_2017/blob/master/img/Day3_Session1.jpg?raw=true)"
   ]
  },
  {
   "cell_type": "markdown",
   "metadata": {
    "slideshow": {
     "slide_type": "subslide"
    }
   },
   "source": [
    "# Responsive HTML5 / PDF\n",
    "- enjoy the best of both world!\n",
    "\n",
    "## PDF\n",
    "- available offline\n",
    "- print ready\n",
    "- archival tool\n",
    "- consolidated & complete\n",
    "- shareable\n",
    "\n",
    "## (Responsive) HTML5\n",
    "- online\n",
    "- mobile friendly\n",
    "- dynamic / interactive\n",
    "- searchable\n",
    "- shareable\n"
   ]
  },
  {
   "cell_type": "markdown",
   "metadata": {
    "slideshow": {
     "slide_type": "subslide"
    }
   },
   "source": [
    "# Survey result\n",
    "- 시사점: mobile friendly output 증가\n",
    "\n",
    "# PDF => HTML5 (일반적인 시퀀스에 따라)\n",
    "## Long page\n",
    "- break into smaller content\n",
    "\n",
    "## Cross reference and Numbering\n",
    "\n",
    "## Web based styles and Responsive Content\n",
    "- CSS\n",
    "- fonts: online font 이슈\n",
    "- source format: inherit / override / map\n",
    "- HTML list\n",
    "- Responsive: image / table"
   ]
  },
  {
   "cell_type": "markdown",
   "metadata": {
    "slideshow": {
     "slide_type": "subslide"
    }
   },
   "source": [
    "## Content Navigations\n",
    "*serial access => random access*\n",
    "- TOC\n",
    "- Index\n",
    "- Glossary\n",
    "- Bread crumbs\n",
    "- Browse Sequence\n",
    "- Search\n",
    "- Filter: PDF에 비해 더 까다로울 수 있다\n",
    "- Progressive discovery\n",
    "\n",
    "## Layout\n",
    "- Master page\n",
    "- Layout\n",
    "  - labels"
   ]
  },
  {
   "cell_type": "markdown",
   "metadata": {
    "slideshow": {
     "slide_type": "subslide"
    }
   },
   "source": [
    "## Search\n",
    "- Synonyms\n",
    "- stop words\n",
    "- search settings\n",
    "- sitemaps\n",
    "\n",
    "## More stuff\n",
    "- Personalization: Content Filter (집중적으로 질문 나옴)\n",
    "  - Q: CMS가 conditional tag을 지원한다고 가정하는 것인가?\n",
    "  - A: 대부분 지원한다...\n",
    "  - Q: SIEMENS 내부 worldwide CMS에서 제한적인 filtering만 지원해서 문의함\n",
    "- Context sensitive\n",
    "- Analytics\n",
    "- sales, marketing, UX 등과 연계하면서 요구 사항이 다양해짐\n",
    "\n",
    "# 변환 데모 (FrameMaker 2017)"
   ]
  },
  {
   "cell_type": "markdown",
   "metadata": {
    "slideshow": {
     "slide_type": "slide"
    }
   },
   "source": [
    "# Day 3 - Session #2\n",
    "## [Creating User Documentation in an Agile World](https://stcsummit2017.sched.com/event/8tjg/creating-user-documentation-in-an-agile-world)\n",
    "### Jane Wilson (Director of Technical Writing, GE Digital)\n",
    "![title](https://github.com/jkboxomine/STC_Summit_2017/blob/master/img/Day3_Session2.jpg?raw=true)"
   ]
  },
  {
   "cell_type": "markdown",
   "metadata": {
    "slideshow": {
     "slide_type": "subslide"
    }
   },
   "source": [
    "# You say Scrum, I say Agile...\n",
    "- Agile Manifesto, 2001 <= 17명이 ski lodge에서 처음 논의\n",
    "- waterfall과의 구분점\n",
    "- Adapt and iterate (보통 2주)\n",
    "- Self-organizing teams: flat > hierarchical\n",
    "- transparency and simplicity: 성과 가시화\n",
    "- Scrum ceremonies: sprint review, etc.\n",
    "- fail fast\n",
    "\n",
    "# There was NO discussion on documentation when Agile came out!\n"
   ]
  },
  {
   "cell_type": "markdown",
   "metadata": {
    "slideshow": {
     "slide_type": "subslide"
    }
   },
   "source": [
    "# Scrum Team\n",
    "- Product owner\n",
    "- Scrum master: facilitator\n",
    "- Team members\n",
    "\n",
    "## Technical Writer\n",
    "- (Usually) specialized member of the scrum team\n",
    "- starts with lightweight content (prototype?)\n",
    "\n",
    "## Writers cover multiple scrum teams\n",
    "- meeting time/frequency/story load 유의\n"
   ]
  },
  {
   "cell_type": "markdown",
   "metadata": {
    "slideshow": {
     "slide_type": "subslide"
    }
   },
   "source": [
    "# Documentation Stories\n",
    "- should reflect all work done by a Technical Writer as part of the scrum team\n",
    "- Types\n",
    "  - created by the development team\n",
    "  - relating to documentation-specific work (less common)\n",
    "\n",
    "## \"Story Points\"\n",
    "\n",
    "## Tips\n",
    "- Divide work into multiple stories (not a single catch-all story)\n",
    "- Link a doc story to the related dev features\n"
   ]
  },
  {
   "cell_type": "markdown",
   "metadata": {
    "slideshow": {
     "slide_type": "subslide"
    }
   },
   "source": [
    "# Review Time\n",
    "- Quality Process (InfoDev)\n",
    "- Review for completeness and flow (scrum team)\n",
    "- End-to-end review and sign-off by PMs\n",
    "\n",
    "# Participate in scrum ceremonies!\n",
    "- Planning\n",
    "- Daily Stand-ups: changes/dropping\n",
    "- Sprint Review\n",
    "- Retrospective\n",
    "\n",
    "# Keep Calm, (Lean about Agile), and Speak Up\n",
    "- 참여하고 의견을 얘기해라!"
   ]
  },
  {
   "cell_type": "markdown",
   "metadata": {
    "slideshow": {
     "slide_type": "subslide"
    }
   },
   "source": [
    "# Q&A\n",
    "- 유지보수, 고객의견 수렴 방법\n",
    "  - JIRA 등으로 Doc Bug을 수집\n",
    "- Story Point 산정 방법\n",
    "  - 팀에서 small/medium/extra large story 별 point를 부과"
   ]
  },
  {
   "cell_type": "markdown",
   "metadata": {
    "slideshow": {
     "slide_type": "slide"
    }
   },
   "source": [
    "# Overall Summary\n",
    "- Content writing을 UX 관점에서 바라보는 세션이 많았음\n",
    "  - Usability에 대한 언급이 자주 나옴\n",
    "  - Tech Writer가 개발팀 이외에 UX, 기획, 마케팅과도 연계해서 content 생성하는 방안 고려\n",
    "- API 관련 세션\n",
    "  - 공통적으로 Code Sample의 중요성을 강조함\n",
    "  - 전반적으로 문서화 관련 실질적인 툴에 대한 내용이 적고 깊이가 얕은 편이었음\n",
    "  - 특히 Day 2, Session #3는 Swagger 자체 소개 수준에 그침\n"
   ]
  },
  {
   "cell_type": "markdown",
   "metadata": {
    "slideshow": {
     "slide_type": "slide"
    }
   },
   "source": [
    "# Closing session\n",
    "![title](https://github.com/jkboxomine/STC_Summit_2017/blob/master/img/ClosingSession.jpg?raw=true)"
   ]
  },
  {
   "cell_type": "markdown",
   "metadata": {
    "slideshow": {
     "slide_type": "subslide"
    }
   },
   "source": [
    "# Farewell\n",
    "![title](https://github.com/jkboxomine/STC_Summit_2017/blob/master/img/Farewell.jpg?raw=true)"
   ]
  }
 ],
 "metadata": {
  "celltoolbar": "Slideshow",
  "kernelspec": {
   "display_name": "Python 3",
   "language": "python",
   "name": "python3"
  },
  "language_info": {
   "codemirror_mode": {
    "name": "ipython",
    "version": 3
   },
   "file_extension": ".py",
   "mimetype": "text/x-python",
   "name": "python",
   "nbconvert_exporter": "python",
   "pygments_lexer": "ipython3",
   "version": "3.6.1"
  }
 },
 "nbformat": 4,
 "nbformat_minor": 2
}
